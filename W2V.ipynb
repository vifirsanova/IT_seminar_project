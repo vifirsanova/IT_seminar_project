{
  "nbformat": 4,
  "nbformat_minor": 0,
  "metadata": {
    "colab": {
      "name": "W2V.ipynb",
      "provenance": [],
      "collapsed_sections": []
    },
    "kernelspec": {
      "name": "python3",
      "display_name": "Python 3"
    }
  },
  "cells": [
    {
      "cell_type": "markdown",
      "metadata": {
        "id": "Qmy0eeIS4582"
      },
      "source": [
        "Автор: [Виктория Фирсанова](https://github.com/vifirsanova)\n",
        "\n",
        "Лучше открывать в Colab: \n",
        "https://colab.research.google.com/drive/1e72NUomF8DYgF9XeLvAsKA9TRZrJsWcK?usp=sharing"
      ]
    },
    {
      "cell_type": "markdown",
      "metadata": {
        "id": "3sxbjzFC4gke"
      },
      "source": [
        "# Загрузка пакетов, библиотек и дополнительных файлов"
      ]
    },
    {
      "cell_type": "code",
      "metadata": {
        "colab": {
          "base_uri": "https://localhost:8080/"
        },
        "id": "qXU8tdqXeyV7",
        "outputId": "bc90b236-ee73-4e19-f0b3-31382e474242"
      },
      "source": [
        "# цветной вывод\n",
        "!pip install colorama"
      ],
      "execution_count": 3,
      "outputs": [
        {
          "output_type": "stream",
          "name": "stdout",
          "text": [
            "Collecting colorama\n",
            "  Downloading colorama-0.4.4-py2.py3-none-any.whl (16 kB)\n",
            "Installing collected packages: colorama\n",
            "Successfully installed colorama-0.4.4\n"
          ]
        }
      ]
    },
    {
      "cell_type": "code",
      "metadata": {
        "id": "e1kXzussaJGb"
      },
      "source": [
        "import json\n",
        "import random\n",
        "from colorama import Fore, Style\n",
        "import re\n",
        "from collections import defaultdict\n",
        "import numpy as np\n",
        "import torch\n",
        "from torch.utils.data import Dataset\n",
        "from torch import nn\n",
        "from torch.nn import functional as F\n",
        "from torch.utils.data import DataLoader\n",
        "import copy\n",
        "from sklearn.decomposition import TruncatedSVD\n",
        "import gensim"
      ],
      "execution_count": 4,
      "outputs": []
    },
    {
      "cell_type": "code",
      "metadata": {
        "colab": {
          "base_uri": "https://localhost:8080/"
        },
        "id": "t_u3JuMlkN_n",
        "outputId": "9930bf22-c856-4931-c32e-914823d6076e"
      },
      "source": [
        "# список стоп-слов\n",
        "!wget https://raw.githubusercontent.com/stopwords-iso/stopwords-ru/master/stopwords-ru.txt"
      ],
      "execution_count": 5,
      "outputs": [
        {
          "output_type": "stream",
          "name": "stdout",
          "text": [
            "--2021-11-26 06:49:05--  https://raw.githubusercontent.com/stopwords-iso/stopwords-ru/master/stopwords-ru.txt\n",
            "Resolving raw.githubusercontent.com (raw.githubusercontent.com)... 185.199.111.133, 185.199.110.133, 185.199.109.133, ...\n",
            "Connecting to raw.githubusercontent.com (raw.githubusercontent.com)|185.199.111.133|:443... connected.\n",
            "HTTP request sent, awaiting response... 200 OK\n",
            "Length: 6229 (6.1K) [text/plain]\n",
            "Saving to: ‘stopwords-ru.txt’\n",
            "\n",
            "\rstopwords-ru.txt      0%[                    ]       0  --.-KB/s               \rstopwords-ru.txt    100%[===================>]   6.08K  --.-KB/s    in 0s      \n",
            "\n",
            "2021-11-26 06:49:05 (71.9 MB/s) - ‘stopwords-ru.txt’ saved [6229/6229]\n",
            "\n"
          ]
        }
      ]
    },
    {
      "cell_type": "markdown",
      "metadata": {
        "id": "bXTw4mahdMkz"
      },
      "source": [
        "# Загрузка корпуса\n",
        "\n",
        "Corus\n",
        "\n",
        "Это наша обучающая выборка"
      ]
    },
    {
      "cell_type": "code",
      "metadata": {
        "id": "4GmXm-NSBCAI"
      },
      "source": [
        "!pip install corus\n",
        "\n",
        "from corus import load_lenta\n",
        "\n",
        "path = 'lenta-ru-news.csv.gz'\n",
        "records = load_lenta(path)"
      ],
      "execution_count": null,
      "outputs": []
    },
    {
      "cell_type": "markdown",
      "metadata": {
        "id": "FooGSDZ_faJI"
      },
      "source": [
        "Загрузка токенизированного текста"
      ]
    },
    {
      "cell_type": "code",
      "metadata": {
        "colab": {
          "base_uri": "https://localhost:8080/"
        },
        "id": "H2Y4n4UsCLBj",
        "outputId": "c8b21912-9137-4ebd-b4ad-a2952178cd29"
      },
      "source": [
        "with open('tokenized.txt') as f:\n",
        "    contents = f.read()\n",
        "\n",
        "print(f\"{Fore.RED}Токенизированый текст обучающей выборки:{Style.RESET_ALL}\\n\", train_tokenized)\n",
        "print(f\"{Fore.RED}Токенизированый текст проверочной выборки:{Style.RESET_ALL}\\n\", val_tokenized)"
      ],
      "execution_count": 119,
      "outputs": [
        {
          "output_type": "stream",
          "name": "stdout",
          "text": [
            "\u001b[31mТокенизированый текст обучающей выборки:\u001b[0m\n",
            " [['австрия', 'не', 'представила', 'доказательств', 'вины', 'российских', 'биатлонистов', 'австрийские', 'правоохранительные', 'органы', 'не', 'представили', 'доказательств', 'нарушения', 'российскими', 'биатлонистами', 'антидопинговых', 'правил', 'об', 'этом', 'сообщил', 'посол', 'россии', 'в', 'вене', 'дмитрий', 'любинский', 'по', 'итогам', 'встречи', 'уполномоченного', 'адвоката', 'дипмиссии', 'с', 'представителями', 'прокуратуры', 'страны', 'передает', 'тасс', 'действует', 'презумпция', 'невиновности', 'каких', 'либо', 'ограничений', 'свободы', 'передвижения', 'для', 'команды', 'нет', 'добавили', 'в', 'посольстве', 'международный', 'союз', 'биатлонистов', 'также', 'не', 'будет', 'применять', 'санкции', 'к', 'российским', 'биатлонистам', 'все', 'они', 'продолжат', 'выступление', 'на', 'кубке', 'мира', 'полиция', 'нагрянула', 'в', 'отель', 'сборной', 'россии', 'в', 'хохфильцене', 'вечером', 'декабря', 'как', 'написал', 'биатлонист', 'александр', 'логинов', 'их', 'считают', 'виновными', 'в', 'махинациях', 'с', 'переливанием', 'крови', 'биатлонисту', 'антону', 'шипулину', 'также', 'попавшему', 'в', 'список', 'полиция', 'нанесла', 'отдельный', 'визит', 'сейчас', 'он', 'тренируется', 'отдельно', 'в', 'австрийском', 'обертиллахе', 'обвинения', 'спортсмен', 'назвал', 'бредом', 'а', 'также', 'указал', 'на', 'охоту', 'на', 'ведьм', 'в', 'мировом', 'биатлоне', 'в', 'австрии', 'прием', 'допинга', 'уголовное', 'преступление', 'максимальное', 'наказание', 'за', 'его', 'употребление', 'три', 'года', 'тюрьмы', 'спорт', 'зимние', 'виды']]\n",
            "\u001b[31mТокенизированый текст проверочной выборки:\u001b[0m\n",
            " [['в', 'петербурге', 'стремительно', 'растет', 'число', 'госпитализаций', 'с', 'covid', '19', 'в', 'петербурге', 'наблюдается', 'резкий', 'рост', 'числа', 'госпитализаций', 'пациентов', 'с', 'covid', '19', 'как', 'сообщает', 'пресс', 'служба', 'смольного', '20', 'октября', 'в', 'больницы', 'петербурга', 'было', 'госпитализировано', '587', 'человек', 'с', 'коронавирусом', 'сутками', 'ранее', '499', 'в', 'первый', 'день', 'этой', 'недели', 'в', 'инфекционные', 'стационары', 'попали', '396', 'человек', 'для', 'сравнения', 'месяц', 'назад', 'в', 'петербурге', 'в', 'сутки', 'госпитализировали', '200', '350', 'человек', 'с', 'covid', '19', 'как', 'следует', 'из', 'перечня', 'эпидемиологических', 'показателей', 'всего', 'на', 'лечении', 'в', 'городских', 'стационарах', 'с', 'covid', '19', 'и', 'пневмониями', 'находится', '7', '639', 'человек', 'из', 'них', '707', 'человек', 'в', 'реанимации', 'больше', 'половины', 'подключены', 'к', 'ивл', 'растёт', 'и', 'число', 'выявленных', 'случаев', 'заражения', 'коронавирусом', 'по', 'данным', 'федерального', 'оперштаба', '20', 'октября', 'в', 'петербурге', 'выявлено', '3', '280', 'новых', 'случаев', 'covid', '19', 'неделю', 'назад', 'в', 'городе', 'выявляли', '2', '345', 'новых', 'заражений', 'за', 'сутки', 'а', 'месяц', 'назад', '1060', 'за', 'минувшие', 'сутки', 'по', 'данным', 'оперштаба', 'в', 'петербурге', 'от', 'ковида', 'скончались', '68', 'человек', 'за', 'весь', 'период', 'пандемии', 'от', 'инфекции', 'погибли', '23', '162', 'петербуржца', 'эпидемиологическая', 'ситуация', 'ухудшается', 'по', 'всей', 'стране', 'за', 'последние', 'сутки', 'в', 'россии', 'выявили', '36', '339', 'случаев', 'заражения', 'covid', '19', 'что', 'стало', 'новым', 'абсолютным', 'рекордом', 'с', 'начала', 'пандемии', 'из', 'за', 'роста', 'заболеваемости', 'коронавирусом', 'губернатор', 'петербурга', 'александр', 'беглов', 'ввёл', 'qr', 'коды', 'для', 'посещения', 'общественных', 'мест', 'с', '15', 'ноября', 'они', 'будут', 'требоваться', 'в', 'фитнес', 'центрах', 'бассейнах', 'театрах', 'кинотеатрах', 'а', 'с', '1', 'декабря', 'для', 'прохода', 'в', 'заведения', 'общепита'], ['в', 'петербурге', 'установили', 'рекорд', 'по', 'числу', 'госпитализированных', 'за', 'сутки', 'за', 'последние', 'сутки', 'в', 'петербургские', 'больницы', 'поступили', '587', 'зараженных', 'коронавирусом', 'это', 'максимальное', 'число', 'граждан', 'с', 'начала', 'четвертой', 'волны', 'пандемии', 'согласно', 'данным', 'пресс', 'службы', 'смольного', 'накануне', 'госпитализировали', '499', 'человек', 'предыдущий', 'рекорд', 'был', 'установлен', 'в', 'середине', 'октября', '14', 'числа', 'тогда', 'зафиксировали', '555', 'госпитализаций', 'за', 'сутки', 'после', 'этого', 'показатели', 'начали', 'снижаться', 'со', 'вчерашнего', 'дня', '20', 'октября', 'суточное', 'количество', 'госпитализаций', 'вновь', 'приблизилось', 'к', '500', 'зафиксировали', '499', 'новых', 'пациентов', 'во', 'время', 'третьей', 'волны', 'коронавируса', 'этим', 'летом', 'в', 'больницы', 'петербурга', 'ежедневно', 'поступали', '800', '850', 'заболевших', 'covid', '19', 'сообщали', 'в', 'пресс', 'службе', 'комитета', 'по', 'здравоохранению', 'петербурга', 'в', 'июне', 'всего', 'на', 'лечении', 'в', 'стационарах', 'сейчас', 'находятся', 'более', '7', '5', 'тыс', 'петербуржцев', 'с', 'covid', '19', 'или', 'пневмонией', 'из', 'них', '372', 'человека', 'подключены', 'к', 'ивл', 'а', '707', 'находятся', 'в', 'реанимации'], ['петербуржцы', 'в', 'очередях', 'идут', 'на', 'рекорды', 'вакцинации', 'после', 'объявления', 'о', 'qr', 'кодах', 'темпы', 'вакцинации', 'от', 'коронавируса', 'в', 'петербурге', 'на', 'второй', 'день', 'после', 'объявления', 'о', 'qr', 'кодах', 'продолжают', 'ускоряться', 'за', 'минувшую', 'среду', '20', 'октября', 'в', 'городе', 'привито', 'первым', 'компонентом', 'вакцины', '16', '503', 'человека', 'вместе', 'с', 'повторной', 'вакцинацией', 'выполнено', '22', '270', 'инъекций', 'сообщили', 'в', 'комздраве', '21', 'октября', 'в', 'первый', 'день', '19', 'октября', 'как', 'писала', 'фонтанка', 'вместе', 'со', 'вторым', 'компонентом', 'и', 'повторной', 'вакцинацией', 'было', 'сделано', '19', '132', 'инъекции', 'тогда', 'как', 'еще', 'в', 'прошлый', 'вторник', 'прививались', 'по', '9', '488', 'человек', 'в', 'сутки', 'ажиотаж', 'вокруг', 'вакцинации', 'нарастает', 'в', 'крупнейшем', 'в', 'городе', 'прививочном', 'пункте', 'в', 'тц', 'галерея', 'утром', '21', 'октября', 'собрались', 'десятки', 'горожан'], ['в', 'петербурге', 'после', 'объявления', 'о', 'qr', 'кодах', 'за', 'один', 'день', 'вакцинировались', '19', 'тысяч', 'человек', 'смольный', 'подвел', 'итоги', 'вакцинации', 'за', 'вторник', 'первый', 'день', 'после', 'сообщения', 'о', 'введении', 'qr', 'кодов', 'в', 'петербурге', 'привились', 'первым', 'компонентом', 'вакцины', '13', '624', 'человека', 'вместе', 'со', 'вторым', 'компонентом', 'и', 'повторной', 'вакцинацией', 'было', 'сделано', '19', '132', 'инъекции', 'в', 'прошлый', 'вторник', 'первым', 'компонентом', 'за', 'сутки', 'привились', '9', '488', 'человек', 'сообщили', 'в', 'комитете', 'по', 'здравоохранению', '20', 'октября', 'как', 'писала', 'фонтанка', 'в', 'первый', 'же', 'день', 'в', 'петербурге', 'встали', 'очереди', 'за', 'уколами', 'в', 'некоторых', 'тц', 'а', 'желающие', 'оборвали', 'телефоны', 'колл', 'центра', '122', 'для', 'записи', 'но', 'их', 'ждали', 'только', 'немецкие', 'танцы', 'бетховена'], ['между', 'сциллой', 'локдауна', 'и', 'харибдой', 'qr', 'кодов', 'как', 'будет', 'жить', 'петербург', 'во', 'время', 'ноябрьских', 'нерабочих', 'в', 'смольном', 'пока', 'не', 'готовы', 'назвать', 'правила', 'по', 'которым', 'город', 'будет', 'жить', 'в', 'период', 'нерабочих', 'дней', 'но', 'на', 'то', 'что', 'среди', 'рассматриваемых', 'вариантов', 'жесткий', 'московский', 'закрыть', 'почти', 'все', 'и', 'мягкий', 'краснодарский', 'доступ', 'по', 'qr', 'кодам', 'намекнул', 'глава', 'ситуационного', 'центра', 'по', 'соблюдению', 'коронавирусных', 'стандартов', 'безопасности', 'александр', 'ситов', 'в', 'ходе', 'круглого', 'стола', 'организованного', 'деловой', 'россией', '21', 'октября', 'он', 'предложил', 'бизнесу', 'поразмыслить', 'над', 'альтернативой', 'полностью', 'остановить', 'работу', 'или', 'принимать', 'клиентов', 'по', 'qr', 'кодам', 'скажите', 'что', 'для', 'вас', 'лучше', 'спросил', 'он', 'в', 'чате', 'с', 'бизнесом', 'сферы', 'horeca', 'созданном', 'еще', 'во', 'время', 'первого', 'локдауна', 'заместитель', 'главы', 'центра', 'развития', 'и', 'поддержки', 'предпринимательства', 'георгий', 'елецких', 'предложил', 'предпринимателям', 'пока', 'руководствоваться', 'разъяснением', 'минпромторга', 'в', 'котором', 'говорится', 'что', 'во', 'время', 'нерабочих', 'дней', 'работать', 'можно', 'только', 'промышленным', 'предприятиям', 'непрерывного', 'цикла', 'продуктовым', 'и', 'аптекам', 'но', 'по', 'информации', 'фонтанки', 'окончательное', 'решение', 'чиновники', 'не', 'приняли', 'и', 'анализируют', 'опыт', 'других', 'регионов', 'обсуждая', 'различные', 'варианты', 'с', 'предпринимателями', 'хороших', 'вариантов', 'нет', 'утверждают', 'последние']]\n"
          ]
        }
      ]
    },
    {
      "cell_type": "markdown",
      "metadata": {
        "id": "DXAAXF5n-OvE"
      },
      "source": [
        "# Построение словаря"
      ]
    },
    {
      "cell_type": "code",
      "metadata": {
        "colab": {
          "base_uri": "https://localhost:8080/"
        },
        "id": "gHnxBzWskUF-",
        "outputId": "e99a61de-c075-464c-a1db-584baf74446d"
      },
      "source": [
        "# стоп-слова \n",
        "stop_words = []\n",
        "\n",
        "with open('stopwords-ru.txt', encoding='utf-8') as f:\n",
        "    for word in f:\n",
        "      stop_words.append(word[:-1])\n",
        "\n",
        "\n",
        "def build_vocab(data_tokenized, pad_word=None, stop_words=stop_words):\n",
        "    freq_dict = defaultdict(int) # количество словоупотреблений в документах \n",
        "    doc_n = len(data_tokenized) # общее количество документов\n",
        "    print(f\"{Fore.RED}Количество документов:{Style.RESET_ALL} {doc_n}\\n\")\n",
        "\n",
        "    # посчитать количество словоупотреблений в документах \n",
        "    for text in data_tokenized:\n",
        "        unique_text_tokens = set(text)\n",
        "        for token in unique_text_tokens:\n",
        "            freq_dict[token] += 1\n",
        "\n",
        "\n",
        "    # удалить стоп-слова\n",
        "    for word in list(freq_dict.keys()):\n",
        "        if word in stop_words:\n",
        "            freq_dict.pop(word)\n",
        "\n",
        "\n",
        "    # удалить уникальные слова\n",
        "    freq_dict = {word: count for word, count in freq_dict.items() if count > 1}\n",
        "\n",
        "    # отсортировать слова по убыванию частоты\n",
        "    sorted_freq_dict = sorted(freq_dict.items(),\n",
        "                                reverse=True,\n",
        "                                key=lambda x: x[1])\n",
        "\n",
        "    # паддинг\n",
        "    padded_freq_dict = [(pad_word, 0)] + sorted_freq_dict\n",
        "    \n",
        "    # обновить нумерацию слов\n",
        "    word2id = {word: i for i, (word, _) in enumerate(padded_freq_dict)}\n",
        "\n",
        "    # преобразуем частотный словарь к виду матриц чисел\n",
        "    word2freq = np.array([count / doc_n for _, count in padded_freq_dict], dtype='float32')\n",
        "\n",
        "    return word2id, word2freq\n",
        "\n",
        "\n",
        "# строим словарь для обучающей выборки\n",
        "vocabulary, word_doc_freq = build_vocab(train_tokenized, pad_word='<PAD>', stop_words=stop_words)\n",
        "\n",
        "print(f\"{Fore.RED}Размер словаря:{Style.RESET_ALL} {len(vocabulary)}\\n\")\n",
        "print(f\"{Fore.RED}Образец словаря{Style.RESET_ALL}\\n\", list(vocabulary.items())[:10])"
      ],
      "execution_count": 139,
      "outputs": [
        {
          "output_type": "stream",
          "name": "stdout",
          "text": [
            "\u001b[31mКоличество документов:\u001b[0m 11002\n",
            "\n",
            "\u001b[31mРазмер словаря:\u001b[0m 67976\n",
            "\n",
            "\u001b[31mОбразец словаря\u001b[0m\n",
            " [('<PAD>', 0), ('сообщает', 1), ('россии', 2), ('словам', 3), ('октября', 4), ('ранее', 5), ('заявил', 6), ('ноября', 7), ('сша', 8), ('отметил', 9)]\n"
          ]
        }
      ]
    },
    {
      "cell_type": "markdown",
      "metadata": {
        "id": "A1A0TY-u-VZz"
      },
      "source": [
        "# Векторизация"
      ]
    },
    {
      "cell_type": "code",
      "metadata": {
        "id": "NDwj7b2DC4It",
        "colab": {
          "base_uri": "https://localhost:8080/"
        },
        "outputId": "77e17b31-a83c-424c-ca23-bb921a78494e"
      },
      "source": [
        "def texts2ids(data_tokenized, word2id):\n",
        "    return [[word2id[token] for token in text if token in word2id]\n",
        "            for text in data_tokenized]\n",
        "\n",
        "# конвертация\n",
        "train_token_ids = texts2ids(train_tokenized, vocabulary)\n",
        "val_token_ids = texts2ids(val_tokenized, vocabulary)\n",
        "\n",
        "print(f\"{Fore.RED}Образец токенизированного текста{Style.RESET_ALL}\\n\", \n",
        "      ' '.join(train_tokenized[0][:5]))\n",
        "print(f\"{Fore.RED}Образец числовых представлений для этого текста{Style.RESET_ALL}\\n\", \n",
        "      ''.join(str(train_token_ids[0][:3])))\n",
        "n1, n2, n3 = train_token_ids[0][0], train_token_ids[0][1], train_token_ids[0][2]\n",
        "print(f\"{Fore.RED}Расшифровка с помощью словаря{Style.RESET_ALL}\\n\", list(vocabulary.items())[n1], \n",
        "      list(vocabulary.items())[n2], list(vocabulary.items())[n3])"
      ],
      "execution_count": 145,
      "outputs": [
        {
          "output_type": "stream",
          "name": "stdout",
          "text": [
            "\u001b[31mОбразец токенизированного текста\u001b[0m\n",
            " австрия не представила доказательств вины\n",
            "\u001b[31mОбразец числовых представлений для этого текста\u001b[0m\n",
            " [8859, 3050, 2247]\n",
            "\u001b[31mРасшифровка с помощью словаря\u001b[0m\n",
            " ('австрия', 8859) ('представила', 3050) ('доказательств', 2247)\n"
          ]
        }
      ]
    },
    {
      "cell_type": "markdown",
      "metadata": {
        "id": "XWs8fNOtJOms"
      },
      "source": [
        "# Паддинг"
      ]
    },
    {
      "cell_type": "code",
      "metadata": {
        "id": "_mEOB-dODEZG",
        "colab": {
          "base_uri": "https://localhost:8080/"
        },
        "outputId": "3e554569-b074-42e2-9540-7fa8984fdc54"
      },
      "source": [
        "# паддинг последовательностей (текстов):\n",
        "# мы задаем длину n для последовательностей обучающих данных,\n",
        "# обрезаем все тексты, которые превышают эту длину\n",
        "# и заполняем нулями все тексты, длина которых ниже заданной длины\n",
        "\n",
        "class PaddedSequenceDataset(Dataset):\n",
        "    def __init__(self, data, targets, out_len=100, pad_value=0):\n",
        "        self.data = data\n",
        "        self.targets = targets\n",
        "        self.out_len = out_len\n",
        "        self.pad_value = pad_value\n",
        "\n",
        "    def __len__(self):\n",
        "        return len(self.data)\n",
        "\n",
        "    def ensure_length(self, txt, out_len, pad_value):\n",
        "        if len(txt) < out_len:\n",
        "            txt = list(txt) + [pad_value] * (out_len - len(txt))\n",
        "        else:\n",
        "            txt = txt[:out_len]\n",
        "        return txt\n",
        "\n",
        "    def __getitem__(self, item):\n",
        "        txt = self.data[item]\n",
        "        txt = self.ensure_length(txt, self.out_len, self.pad_value)\n",
        "        txt = torch.tensor(txt, dtype=torch.long)\n",
        "        target = torch.tensor(self.targets[item], dtype=torch.long)\n",
        "\n",
        "        return txt, target\n",
        "\n",
        "\n",
        "# максимальная длина последовательности\n",
        "MAX_SENTENCE_LEN = 50\n",
        "\n",
        "# применить паддинг\n",
        "train_dataset = PaddedSequenceDataset(train_token_ids,\n",
        "                                      np.zeros(len(train_token_ids)),\n",
        "                                      out_len=MAX_SENTENCE_LEN)\n",
        "val_dataset = PaddedSequenceDataset(val_token_ids,\n",
        "                                     np.zeros(len(val_token_ids)),\n",
        "                                     out_len=MAX_SENTENCE_LEN)\n",
        "\n",
        "print(f\"{Fore.RED}Образец числовых представлений для текста из выборки{Style.RESET_ALL}\\n\", \n",
        "      ''.join(str(train_token_ids[0])))\n",
        "print(f\"{Fore.RED}\\nТо же после применения паддинга{Style.RESET_ALL}\\n\", train_dataset[0])"
      ],
      "execution_count": 147,
      "outputs": [
        {
          "output_type": "stream",
          "name": "stdout",
          "text": [
            "\u001b[31mОбразец числовых представлений для текста из выборки\u001b[0m\n",
            " [8859, 3050, 2247, 5460, 49, 13882, 18411, 1613, 663, 2892, 2247, 760, 1365, 7872, 797, 16, 4310, 2, 8510, 132, 200, 326, 13077, 2846, 7317, 1957, 1412, 12, 26, 64, 2015, 17024, 1139, 250, 3469, 395, 10557, 341, 2218, 4413, 1441, 999, 13882, 5742, 461, 396, 28026, 4624, 1396, 12322, 174, 24620, 6261, 594, 2, 15817, 732, 30, 122, 10078, 120, 10558, 320, 6262, 13076, 22153, 1907, 32409, 22152, 32410, 48789, 375, 174, 9651, 11682, 4132, 17023, 3528, 15816, 38818, 274, 1011, 119, 24619, 589, 11683, 20092, 4311, 32408, 2538, 3097, 12321, 149, 1532, 5072, 694, 2811, 1329, 28, 1019, 598]\n",
            "\u001b[31m\n",
            "То же после применения паддинга\u001b[0m\n",
            " (tensor([ 8859,  3050,  2247,  5460,    49, 13882, 18411,  1613,   663,  2892,\n",
            "         2247,   760,  1365,  7872,   797,    16,  4310,     2,  8510,   132,\n",
            "          200,   326, 13077,  2846,  7317,  1957,  1412,    12,    26,    64,\n",
            "         2015, 17024,  1139,   250,  3469,   395, 10557,   341,  2218,  4413,\n",
            "         1441,   999, 13882,  5742,   461,   396, 28026,  4624,  1396, 12322]), tensor(0))\n"
          ]
        }
      ]
    },
    {
      "cell_type": "markdown",
      "metadata": {
        "id": "pdz6jri0JksQ"
      },
      "source": [
        "# Модель"
      ]
    },
    {
      "cell_type": "code",
      "metadata": {
        "id": "XSD9C6i2EIdj"
      },
      "source": [
        "# побочная функция создает квадратную матрицу\n",
        "# потребуется для создания маски для обучения модели\n",
        "def make_diag_mask(size, radius):\n",
        "    idxs = torch.arange(size)\n",
        "    abs_idx_diff = (idxs.unsqueeze(0) - idxs.unsqueeze(1)).abs()\n",
        "    mask = ((abs_idx_diff <= radius) & (abs_idx_diff > 0)).float()\n",
        "    return mask\n",
        "\n",
        "\n",
        "# модель Skip Gram Negative Sampling\n",
        "class SkipGramNegativeSampling(nn.Module):\n",
        "    def __init__(self, vocab_size, emb_size, sentence_len, radius=3, negative_samples_n=30):\n",
        "        super().__init__()\n",
        "        self.vocab_size = vocab_size\n",
        "        self.negative_samples_n = negative_samples_n\n",
        "\n",
        "        self.center_emb = nn.Embedding(self.vocab_size, emb_size, padding_idx=0)\n",
        "        self.center_emb.weight.data.uniform_(-1.0 / emb_size, 1.0 / emb_size)\n",
        "        self.center_emb.weight.data[0] = 0\n",
        "\n",
        "        self.context_emb = nn.Embedding(self.vocab_size, emb_size, padding_idx=0)        \n",
        "        self.context_emb.weight.data.uniform_(-1.0 / emb_size, 1.0 / emb_size)\n",
        "        self.context_emb.weight.data[0] = 0\n",
        "\n",
        "        self.positive_sim_mask = make_diag_mask(sentence_len, radius)\n",
        "\n",
        "    def forward(self, sentences):\n",
        "        batch_size = sentences.shape[0]\n",
        "        center_embeddings = self.center_emb(sentences)  # Batch x MaxSentLength x EmbSize\n",
        "\n",
        "        # оценить сходство с соседними словами\n",
        "        positive_context_embs = self.context_emb(sentences).permute(0, 2, 1)  # Batch x EmbSize x MaxSentLength\n",
        "        positive_sims = torch.bmm(center_embeddings, positive_context_embs)  # Batch x MaxSentLength x MaxSentLength\n",
        "        positive_probs = torch.sigmoid(positive_sims)\n",
        "\n",
        "        # увеличить оценку вероятности совместной встречаемости для пар слов\n",
        "        positive_mask = self.positive_sim_mask.to(positive_sims.device)\n",
        "        positive_loss = F.binary_cross_entropy(positive_probs * positive_mask,\n",
        "                                               positive_mask.expand_as(positive_probs))\n",
        "\n",
        "        # выбрать случайные \"отрицательные\" слова\n",
        "        negative_words = torch.randint(1, self.vocab_size,\n",
        "                                       size=(batch_size, self.negative_samples_n),\n",
        "                                       device=sentences.device)  # Batch x NegSamplesN\n",
        "        negative_context_embs = self.context_emb(negative_words).permute(0, 2, 1)  # Batch x EmbSize x NegSamplesN\n",
        "        negative_sims = torch.bmm(center_embeddings, negative_context_embs)  # Batch x MaxSentLength x NegSamplesN\n",
        "        \n",
        "        # уменьшить оценку вероятности совместной встречаемости для пар слов\n",
        "        negative_loss = F.binary_cross_entropy_with_logits(negative_sims,\n",
        "                                                           negative_sims.new_zeros(negative_sims.shape))\n",
        "\n",
        "        return positive_loss + negative_loss\n",
        "\n",
        "\n",
        "# фиктивная функция потерь\n",
        "def no_loss(pred, target):\n",
        "    return pred"
      ],
      "execution_count": 148,
      "outputs": []
    },
    {
      "cell_type": "markdown",
      "metadata": {
        "id": "nmFwfUJlPkmy"
      },
      "source": [
        "# Обучение"
      ]
    },
    {
      "cell_type": "code",
      "metadata": {
        "colab": {
          "base_uri": "https://localhost:8080/"
        },
        "id": "TAFYcz7Jc8tT",
        "outputId": "f1527c16-e731-48a2-b1bf-e6d9b4dcd374"
      },
      "source": [
        "# функция для сохранения обученной модели\n",
        "def copy_data_to_device(data, device):\n",
        "    if torch.is_tensor(data):\n",
        "        return data.to(device)\n",
        "    elif isinstance(data, (list, tuple)):\n",
        "        return [copy_data_to_device(elem, device) for elem in data]\n",
        "    raise ValueError()\n",
        "\n",
        "\n",
        "def train_and_eval(model, train_dataset, val_dataset, loss_func,\n",
        "                   lr=1e-4, epochs=10, batch_size=32,\n",
        "                   device=None, early_stopping_patience=10, l2=0,\n",
        "                   max_batches_per_epoch_train=10000,\n",
        "                   max_batches_per_epoch_val=1000,\n",
        "                   data_loader=DataLoader,\n",
        "                   optimizer=None,\n",
        "                   lr_scheduler=None,\n",
        "                   shuffle_train=True,\n",
        "                   dataloader_workers_n=0):\n",
        "    \"\"\"\n",
        "    Цикл для обучения и оценки модели\n",
        "    :model: модель для обучения (torch.nn.Module)\n",
        "    :train_dataset: обучающая выборка (torch.utils.data.Dataset)\n",
        "    :val_dataset: проверочная выборка (torch.utils.data.Dataset)\n",
        "    :loss_func: функция потерь (func)\n",
        "    :lr: скорость обучения (float)\n",
        "    :epochs: количество эпох обучения (int)\n",
        "    :batch_size: размер батча (int)\n",
        "    :device: cuda/cpu (str)\n",
        "    :early_stopping_patience: наибольшее количество эпох, в течение которых допускается\n",
        "        отсутствие улучшения модели (int)\n",
        "    :l2: коэффициент L2-регуляризации (int)\n",
        "    :max_batches_per_epoch_train: максимальное количество итераций на одну эпоху обучения (int)\n",
        "    :max_batches_per_epoch_val: максимальное количество итераций на одну эпоху валидации (int)\n",
        "    :data_loader: преобразует датасет в батчи (torch.utils.data.DataLoader)\n",
        "    :optimizer: оптимизатор (torch.optim.optimizer)\n",
        "    :lr_scheduler: задает скорость обучения (torch.optim.lr_scheduler)\n",
        "    :shuffle_train: перемешать данные в обучающей выборке (Bool)\n",
        "    :return: среднее значение функции потерь на валидации на лучшей эпохе, лучшая модель (tuple)\n",
        "    \"\"\"\n",
        "    device = torch.device(device)\n",
        "    model.to(device)\n",
        "    optimizer = torch.optim.Adam(model.parameters(), lr=lr, weight_decay=l2)\n",
        "    lr_scheduler = lr_scheduler(optimizer)\n",
        "    train_dataloader = data_loader(train_dataset, batch_size=batch_size, shuffle=shuffle_train,\n",
        "                                        num_workers=dataloader_workers_n)\n",
        "    val_dataloader = data_loader(val_dataset, batch_size=batch_size, shuffle=False,\n",
        "                                      num_workers=dataloader_workers_n)\n",
        "\n",
        "    best_val_loss = float('inf')\n",
        "    best_epoch = 0\n",
        "    best_model = copy.deepcopy(model)\n",
        "\n",
        "    for epoch in range(epochs):\n",
        "        try:\n",
        "            print(f\"Эпоха {epoch}\")\n",
        "\n",
        "            model.train()\n",
        "            mean_train_loss = 0\n",
        "            train_batches_n = 0\n",
        "            for batch_i, (batch_x, batch_y) in enumerate(train_dataloader):\n",
        "                if batch_i > max_batches_per_epoch_train:\n",
        "                    break\n",
        "\n",
        "                batch_x = copy_data_to_device(batch_x, device)\n",
        "                batch_y = copy_data_to_device(batch_y, device)\n",
        "\n",
        "                pred = model(batch_x)\n",
        "                loss = loss_func(pred, batch_y)\n",
        "\n",
        "                model.zero_grad()\n",
        "                loss.backward()\n",
        "\n",
        "                optimizer.step()\n",
        "\n",
        "                mean_train_loss += float(loss)\n",
        "                train_batches_n += 1\n",
        "\n",
        "            mean_train_loss /= train_batches_n\n",
        "            print(f\"Mean train loss = {mean_train_loss}\")\n",
        "\n",
        "\n",
        "            # После каждой эпохи качество модели оценивается по проверочной выборке\n",
        "            model.eval()\n",
        "            mean_val_loss = 0\n",
        "            val_batches_n = 0\n",
        "\n",
        "            with torch.no_grad():\n",
        "                for batch_i, (batch_x, batch_y) in enumerate(val_dataloader):\n",
        "                    if batch_i > max_batches_per_epoch_val:\n",
        "                        break\n",
        "\n",
        "                    batch_x = copy_data_to_device(batch_x, device)\n",
        "                    batch_y = copy_data_to_device(batch_y, device)\n",
        "\n",
        "                    pred = model(batch_x)\n",
        "                    loss = loss_func(pred, batch_y)\n",
        "\n",
        "                    mean_val_loss += float(loss)\n",
        "                    val_batches_n += 1\n",
        "\n",
        "            mean_val_loss /= val_batches_n\n",
        "            print(f\"Mean val loss = {mean_val_loss}\")\n",
        "\n",
        "            if mean_val_loss < best_val_loss:\n",
        "                best_epoch = epoch\n",
        "                best_val_loss = mean_val_loss\n",
        "                best_model = copy.deepcopy(model)\n",
        "            elif epoch - best_epoch > early_stopping_patience:\n",
        "                print(\"Early stopping\")\n",
        "                break\n",
        "\n",
        "            if lr_scheduler is not None:\n",
        "                lr_scheduler.step(mean_val_loss)\n",
        "\n",
        "            print()\n",
        "            \n",
        "        except KeyboardInterrupt:\n",
        "            break\n",
        "        except Exception as ex:\n",
        "            print(ex)\n",
        "            break\n",
        "\n",
        "    return best_val_loss, best_model\n",
        "\n",
        "model = SkipGramNegativeSampling(vocab_size=len(vocabulary), emb_size=100, sentence_len=MAX_SENTENCE_LEN, radius=3, negative_samples_n=30)\n",
        "\n",
        "best_val_loss, best_model = train_and_eval(model,\n",
        "                                           train_dataset,\n",
        "                                           val_dataset,\n",
        "                                           no_loss,\n",
        "                                           lr=1e-2,\n",
        "                                           epochs=5,\n",
        "                                           batch_size=4,\n",
        "                                           device='cpu',\n",
        "                                           early_stopping_patience=5,\n",
        "                                           max_batches_per_epoch_train=2000,\n",
        "                                           max_batches_per_epoch_val=len(val_dataset),\n",
        "                                           lr_scheduler=lambda optim: torch.optim.lr_scheduler.ReduceLROnPlateau(optim, patience=1, verbose=True))"
      ],
      "execution_count": 149,
      "outputs": [
        {
          "output_type": "stream",
          "name": "stdout",
          "text": [
            "Эпоха 0\n",
            "Mean train loss = 0.6624369698128422\n",
            "Mean val loss = 0.4005441516637802\n",
            "\n",
            "Эпоха 1\n",
            "Mean train loss = 0.41524487316816944\n",
            "Mean val loss = 0.3722411245107651\n",
            "\n",
            "Эпоха 2\n",
            "Mean train loss = 0.34845139679016324\n",
            "Mean val loss = 0.337588369846344\n",
            "\n",
            "Эпоха 3\n",
            "Mean train loss = 0.31081490734706574\n",
            "Mean val loss = 0.35516928136348724\n",
            "\n",
            "Эпоха 4\n",
            "Mean train loss = 0.2810781160737204\n",
            "Mean val loss = 0.5022161304950714\n",
            "Epoch     5: reducing learning rate of group 0 to 1.0000e-03.\n",
            "\n"
          ]
        }
      ]
    },
    {
      "cell_type": "code",
      "metadata": {
        "id": "qorNTaVuSOlc"
      },
      "source": [
        "torch.save(model.state_dict(), 'model_weights.pth')\n",
        "# model.load_state_dict(torch.load('model_weights.pth'))"
      ],
      "execution_count": 150,
      "outputs": []
    },
    {
      "cell_type": "markdown",
      "metadata": {
        "id": "m9Exd9kSjh-5"
      },
      "source": [
        "# Анализ"
      ]
    },
    {
      "cell_type": "code",
      "metadata": {
        "id": "F1OHQfOlIrK-"
      },
      "source": [
        "class Word2Vec:\n",
        "    def __init__(self, embeddings, word2id):\n",
        "        self.embeddings = embeddings\n",
        "        self.embeddings /= (np.linalg.norm(self.embeddings, ord=2, axis=-1, keepdims=True) + 1e-4)\n",
        "        self.word2id = word2id\n",
        "        self.id2word = {i: w for w, i in word2id.items()}\n",
        "\n",
        "\n",
        "    def similar(self, word, num=10):\n",
        "        \"\"\"\n",
        "        Функция находит наиболее похожие слова на данное (в основе - функция get_similar)\n",
        "        :word: слово для анализа (str)\n",
        "        :num: количество сходных слов для отображения (int)\n",
        "        :return: num кортежей вида ('аналогичное слово' (str), вероятность сходства (0 <= float <= 1)) (list)\n",
        "        \"\"\"\n",
        "        return self.get_similar(self.get_vector(word), num=num)\n",
        "\n",
        "\n",
        "    def get_similar(self, vec, num=10):\n",
        "        \"\"\"\n",
        "        Функция находит наиболее похожие вектора на данный\n",
        "        :vec: вектор слова для анализа (numpy.ndarray)\n",
        "        :num: количество сходных слов для отображения (int)\n",
        "        :return: num кортежей вида ('аналогичное слово' (str), вероятность сходства (0 <= float <= 1)) (list)\n",
        "        \"\"\"\n",
        "        similarities = (self.embeddings * vec).sum(-1) # сходные слова\n",
        "        top_similar = np.argpartition(-similarities, num, axis=0)[:num]\n",
        "        result = [(self.id2word[i], similarities[i]) for i in top_similar] # список кортежей\n",
        "        result.sort(key=lambda x: -x[1]) # сортировка результата по убыванию\n",
        "        return result\n",
        "\n",
        "\n",
        "    def get_vector(self, word):\n",
        "        if word not in self.word2id:\n",
        "            raise ValueError('Неизвестное слово \"{}\"'.format(word))\n",
        "        return self.embeddings[self.word2id[word]]\n",
        "\n",
        "\n",
        "    def get_vectors(self, *words):\n",
        "        word_ids = [self.word2id[i] for i in words]\n",
        "        vectors = np.stack([self.embeddings[i] for i in word_ids], axis=0)\n",
        "        return vectors\n",
        "\n",
        "\n",
        "embeddings = Word2Vec(model.center_emb.weight.detach().cpu().numpy(), vocabulary)"
      ],
      "execution_count": 151,
      "outputs": []
    },
    {
      "cell_type": "code",
      "metadata": {
        "id": "b7LQOCA-IubR",
        "colab": {
          "base_uri": "https://localhost:8080/"
        },
        "outputId": "72627afb-d370-47ac-f879-262588796ab0"
      },
      "source": [
        "embeddings.similar('президент')"
      ],
      "execution_count": 155,
      "outputs": [
        {
          "output_type": "execute_result",
          "data": {
            "text/plain": [
              "[('президент', 0.9999279),\n",
              " ('путин', 0.6271558),\n",
              " ('владимир', 0.6147858),\n",
              " ('глава', 0.56598836),\n",
              " ('аморальной', 0.5588019),\n",
              " ('дональд', 0.5536129),\n",
              " ('нурсултан', 0.5534665),\n",
              " ('бин', 0.5100548),\n",
              " ('хасан', 0.5007653),\n",
              " ('сша', 0.49176666)]"
            ]
          },
          "metadata": {},
          "execution_count": 155
        }
      ]
    },
    {
      "cell_type": "code",
      "metadata": {
        "colab": {
          "base_uri": "https://localhost:8080/"
        },
        "id": "UIXSWAy_xxXD",
        "outputId": "9be33612-d32e-403c-ae1f-614b7fa4c02c"
      },
      "source": [
        "embeddings.similar('рф')"
      ],
      "execution_count": 156,
      "outputs": [
        {
          "output_type": "execute_result",
          "data": {
            "text/plain": [
              "[('рф', 0.99994165),\n",
              " ('ук', 0.5646295),\n",
              " ('ростуризма', 0.4952554),\n",
              " ('денис', 0.48497206),\n",
              " ('статье', 0.48457465),\n",
              " ('россии', 0.4773477),\n",
              " ('запущенного', 0.47727886),\n",
              " ('нагрузка', 0.47535282),\n",
              " ('лидеры', 0.4736279),\n",
              " ('администраций', 0.4718611)]"
            ]
          },
          "metadata": {},
          "execution_count": 156
        }
      ]
    },
    {
      "cell_type": "code",
      "metadata": {
        "id": "8Lp2Zb8nI35v",
        "colab": {
          "base_uri": "https://localhost:8080/",
          "height": 611
        },
        "outputId": "53b177e3-3c76-4f28-ad20-6149f66ee54f"
      },
      "source": [
        "clustering_words = ['тест', 'диагноз', 'заболевания', 'футбол', 'спорт', 'плавание', 'соревнования', 'победа', 'политика', 'президент', 'министр', 'финансы', 'управление', 'глава', 'мвд']\n",
        "clustering_vectors = embeddings.get_vectors(*clustering_words)\n",
        "print(\"Визуализация тематических кластеров векторов слов\")\n",
        "\n",
        "import matplotlib.pyplot as plt\n",
        "\n",
        "fig, ax = plt.subplots()\n",
        "fig.set_size_inches((10, 10))\n",
        "projections = TruncatedSVD().fit_transform(clustering_vectors)\n",
        "x = projections[:, 0]\n",
        "y = projections[:, 1]\n",
        "ax.scatter(x, y)\n",
        "for cur_x, cur_y, cur_label in zip(x, y, clustering_words):\n",
        "    ax.annotate(cur_label, (cur_x, cur_y))"
      ],
      "execution_count": 162,
      "outputs": [
        {
          "output_type": "stream",
          "name": "stdout",
          "text": [
            "Визуализация тематических кластеров векторов слов\n"
          ]
        },
        {
          "output_type": "display_data",
          "data": {
            "image/png": "[encoded data removed]",
            "text/plain": [
              "<Figure size 720x720 with 1 Axes>"
            ]
          },
          "metadata": {
            "needs_background": "light"
          }
        }
      ]
    }
  ]
}